{
 "cells": [
  {
   "cell_type": "code",
   "execution_count": 1,
   "metadata": {},
   "outputs": [],
   "source": [
    "# Callin Switzer\n",
    "# 23 May 2017\n",
    "# Get all node values from a trained network, given a set of weights"
   ]
  },
  {
   "cell_type": "code",
   "execution_count": 2,
   "metadata": {},
   "outputs": [],
   "source": [
    "import numpy as np\n",
    "import pickle\n",
    "import os\n",
    "import pandas as pd"
   ]
  },
  {
   "cell_type": "code",
   "execution_count": 22,
   "metadata": {},
   "outputs": [],
   "source": [
    "# this function returns values of all layers\n",
    "def returnLayerValues(weights, inputData):\n",
    "    '''\n",
    "    Returns all layer values from fitted network (including input and output)\n",
    "    \n",
    "    The fitted network uses \"tanh\" activation for hidden layers and\n",
    "        \"linear\" activation for the final layer\n",
    "        \n",
    "    Params:\n",
    "        weights (list): list of weights from a fitted model\n",
    "        inputData (array or Data frame): input data that will be run through the network\n",
    "    \n",
    "    Returns:\n",
    "        layer values (list): values of all of the units in the network.\n",
    "            - the 0'th item in the list is the input data\n",
    "            - the final item in the list is the final prediction\n",
    "    '''\n",
    "    \n",
    "    LayerValues = [inputData.astype(\"float64\")]\n",
    "    for layerNum in np.arange(0, len(weights), 2):\n",
    "        \n",
    "        # calculate dot product and add bias\n",
    "        nextLayer = np.dot(LayerValues[-1], weights[layerNum]) + weights[layerNum+1]\n",
    "        \n",
    "        if layerNum != (len(weights)-2):\n",
    "            # apply activation function, except for final layer\n",
    "            nextLayer = np.tanh(nextLayer)\n",
    "        \n",
    "        # append to list\n",
    "        LayerValues.append(nextLayer)\n",
    "        \n",
    "    return(LayerValues)"
   ]
  },
  {
   "cell_type": "code",
   "execution_count": 23,
   "metadata": {},
   "outputs": [],
   "source": [
    "# load example data\n",
    "pathToTrainingX= r\"C:\\Users\\Theodore\\Dropbox\\ExampleData\\X_train_small.csv\"\n",
    "x_train = pd.read_csv(pathToTrainingX)\n",
    "\n",
    "# in case you want to compare predicted to actual, you can load the Y dataset\n",
    "pathToTrainingY= r\"C:\\Users\\Theodore\\Dropbox\\ExampleData\\Y_train_small.csv\"\n",
    "y_train = pd.read_csv(pathToTrainingY)"
   ]
  },
  {
   "cell_type": "code",
   "execution_count": 24,
   "metadata": {},
   "outputs": [
    {
     "name": "stdout",
     "output_type": "stream",
     "text": [
      "(10, 20)\n",
      "(20,)\n",
      "(20, 20)\n",
      "(20,)\n",
      "(20, 16)\n",
      "(16,)\n",
      "(16, 7)\n",
      "(7,)\n",
      "1095 total weights\n"
     ]
    }
   ],
   "source": [
    "# load weights\n",
    "pathToWeights = r\"C:\\Users\\Theodore\\Dropbox\\ExampleData\\Opt_rmsprop__Dro_0.0__Num_20_20_16__Wei_0_pruned_wts.pkl\"\n",
    "\n",
    "# read in weight data\n",
    "wts =  pickle.load(open(pathToWeights, 'rb'))\n",
    "\n",
    "# print sizes of each weight matrix\n",
    "wtLengths = []\n",
    "for ii in range(len(wts)):\n",
    "    print(wts[ii].shape)\n",
    "    wtLengths.append(np.prod(wts[ii].shape))\n",
    "\n",
    "# print total number of weights (including biases)\n",
    "print(np.sum(wtLengths), \"total weights\")"
   ]
  },
  {
   "cell_type": "code",
   "execution_count": 82,
   "metadata": {},
   "outputs": [],
   "source": [
    "# Specify upper limit for maximal layer size\n",
    "MaxSize = 100"
   ]
  },
  {
   "cell_type": "code",
   "execution_count": 25,
   "metadata": {},
   "outputs": [
    {
     "data": {
      "text/plain": [
       "5"
      ]
     },
     "execution_count": 25,
     "metadata": {},
     "output_type": "execute_result"
    }
   ],
   "source": [
    "# calculate values at each layer, using the function above\n",
    "intermediateValues = returnLayerValues(wts, inputData= x_train)\n",
    "len(intermediateValues)"
   ]
  },
  {
   "cell_type": "code",
   "execution_count": 26,
   "metadata": {},
   "outputs": [
    {
     "data": {
      "text/plain": [
       "[phi_0          0.041542\n",
       " theta_0        0.054877\n",
       " x_99          -0.152803\n",
       " y_99           0.285903\n",
       " phi_99         0.239964\n",
       " theta_99       0.240972\n",
       " x_dot_0       -0.112056\n",
       " y_dot_0        0.359979\n",
       " phi_dot_0      0.050783\n",
       " theta_dot_0    0.136457\n",
       " Name: 10, dtype: float64,\n",
       " array([-0.13556157,  0.03295296,  0.06441126,  0.19215864,  0.01631493,\n",
       "         0.2854097 , -0.19370388,  0.14608274,  0.05551645, -0.33661555,\n",
       "         0.00265089,  0.16413905,  0.01613132, -0.07589644,  0.18447672,\n",
       "         0.28813172, -0.03105188,  0.1496494 , -0.0589839 ,  0.15664024]),\n",
       " array([ 0.64418939, -0.31667975,  0.22383183,  0.25154968, -0.31221573,\n",
       "         0.09311975, -0.12242253, -0.12680727,  0.53562416,  0.17442809,\n",
       "         0.23693062, -0.05197936, -0.0512231 ,  0.01744712, -0.23281864,\n",
       "         0.53774949,  0.11636556,  0.19190495,  0.04639692, -0.25954867]),\n",
       " array([ 0.64372407, -0.58434746,  0.36832682, -0.84890526, -0.6083784 ,\n",
       "         0.18469928,  0.3070044 , -0.32664111, -0.28786099,  0.29527886,\n",
       "        -0.49468385,  0.31689467,  0.26314097,  0.84818035,  0.03410864,\n",
       "         0.02540858]),\n",
       " array([ 0.06879082, -0.2391789 , -0.15056384, -0.19336098,  0.22803301,\n",
       "         0.00156395,  0.26404816])]"
      ]
     },
     "execution_count": 26,
     "metadata": {},
     "output_type": "execute_result"
    }
   ],
   "source": [
    "# calculate intermediate values for only one input row\n",
    "intermediateValues = returnLayerValues(wts, inputData= x_train.iloc[10, :])\n",
    "intermediateValues"
   ]
  },
  {
   "cell_type": "code",
   "execution_count": 27,
   "metadata": {},
   "outputs": [
    {
     "data": {
      "image/png": "[encoded data removed]",
      "text/plain": [
       "<matplotlib.figure.Figure at 0x1f74b22c470>"
      ]
     },
     "metadata": {},
     "output_type": "display_data"
    },
    {
     "data": {
      "image/png": "[encoded data removed]",
      "text/plain": [
       "<matplotlib.figure.Figure at 0x1f74b26e588>"
      ]
     },
     "metadata": {},
     "output_type": "display_data"
    },
    {
     "data": {
      "image/png": "[encoded data removed]",
      "text/plain": [
       "<matplotlib.figure.Figure at 0x1f74b2a4080>"
      ]
     },
     "metadata": {},
     "output_type": "display_data"
    },
    {
     "data": {
      "image/png": "[encoded data removed]",
      "text/plain": [
       "<matplotlib.figure.Figure at 0x1f74b2e2e48>"
      ]
     },
     "metadata": {},
     "output_type": "display_data"
    },
    {
     "data": {
      "image/png": "[encoded data removed]",
      "text/plain": [
       "<matplotlib.figure.Figure at 0x1f74b320da0>"
      ]
     },
     "metadata": {},
     "output_type": "display_data"
    }
   ],
   "source": [
    "import matplotlib.pyplot as plt\n",
    "for l in intermediateValues:\n",
    "    plt.figure()\n",
    "    plt.bar(range(len(l)), l)"
   ]
  },
  {
   "cell_type": "code",
   "execution_count": null,
   "metadata": {},
   "outputs": [],
   "source": []
  },
  {
   "cell_type": "markdown",
   "metadata": {},
   "source": [
    "# Create Weights DataFrame"
   ]
  },
  {
   "cell_type": "code",
   "execution_count": 146,
   "metadata": {},
   "outputs": [],
   "source": [
    "import pandas as pd\n",
    "\n",
    "nodes = []\n",
    "links = []\n",
    "# iterate through the layers to get links and nodes\n",
    "for layerNum in np.arange(0, len(wts), 2):\n",
    "    m, n = wts[layerNum].shape\n",
    "    for i in range(m):\n",
    "        node_id = int(layerNum/2*MaxSize + i)\n",
    "        nodes.append({'id':node_id, 'LayerNum':int(layerNum/2), 'NodeNum':i})\n",
    "        for j in range(n):\n",
    "            source = node_id\n",
    "            target = int((layerNum/2+1)*MaxSize + j)\n",
    "            links.append({'source':source, 'target':target, 'weight':float(wts[layerNum][i,j])})\n",
    "# output layer nodes\n",
    "for l in range(len(wts[-1])):\n",
    "    node_id = int(len(wts)/2*MaxSize + l)\n",
    "    nodes.append({'id':node_id, 'LayerNum':int(len(wts)/2), 'NodeNum':i})\n",
    "# Build the network graph\n",
    "Graph = {'nodes': nodes, 'links': links}\n",
    "with open('NetworkGraph.json', 'w') as fp:\n",
    "    json.dump(Graph, fp)                      "
   ]
  },
  {
   "cell_type": "code",
   "execution_count": 145,
   "metadata": {},
   "outputs": [
    {
     "data": {
      "text/plain": [
       "{'links': [{'l': 1, 'r': 7}, {'l': 2, 'r': 4}],\n",
       " 'nodes': [{'a': 0.397190831048, 's': 1}, {'a': 0, 's': 2}]}"
      ]
     },
     "execution_count": 145,
     "metadata": {},
     "output_type": "execute_result"
    }
   ],
   "source": [
    "dic = {'nodes': [{'s': 1, 'a': 0.3971908310480}, {'s': 2, 'a': 0}], 'links': [{'l': 1, 'r': 7}, {'l': 2, 'r': 4}]}\n",
    "dic"
   ]
  },
  {
   "cell_type": "code",
   "execution_count": 135,
   "metadata": {},
   "outputs": [],
   "source": [
    "with open('dic.json', 'w') as fp:\n",
    "    json.dump(dic, fp)"
   ]
  },
  {
   "cell_type": "code",
   "execution_count": null,
   "metadata": {},
   "outputs": [],
   "source": []
  }
 ],
 "metadata": {
  "kernelspec": {
   "display_name": "Python 3",
   "language": "python",
   "name": "python3"
  },
  "language_info": {
   "codemirror_mode": {
    "name": "ipython",
    "version": 3
   },
   "file_extension": ".py",
   "mimetype": "text/x-python",
   "name": "python",
   "nbconvert_exporter": "python",
   "pygments_lexer": "ipython3",
   "version": "3.5.5"
  },
  "widgets": {
   "state": {},
   "version": "1.1.2"
  }
 },
 "nbformat": 4,
 "nbformat_minor": 2
}
